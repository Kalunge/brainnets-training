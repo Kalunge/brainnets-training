{
 "cells": [
  {
   "attachments": {},
   "cell_type": "markdown",
   "metadata": {},
   "source": [
    "1. \n",
    "\n",
    "In the United Kingdom the currency is made up of pound (£) and pence (p). There are eight coins in general circulation:\n",
    "\n",
    "    1p, 2p, 5p, 10p, 20p, 50p, £1 (100p), and £2 (200p).\n",
    "\n",
    "It is possible to make £2 in the following way:\n",
    "\n",
    "    1×£1 + 1×50p + 2×20p + 1×5p + 1×2p + 3×1p\n",
    "\n",
    "How many different ways can £2 be made using any number of coins?\n"
   ]
  },
  {
   "cell_type": "code",
   "execution_count": null,
   "metadata": {},
   "outputs": [],
   "source": [
    "def coin_sums():\n",
    "    coins = [1, 2, 5, 10, 20, 50, 100, 200]\n",
    "    ways = [0] * 201\n",
    "    ways[0] = 1\n",
    "\n",
    "    for coin in coins:\n",
    "        for i in range(coin, 201):\n",
    "            ways[i] += ways[i - coin]\n",
    "\n",
    "    return ways[200]"
   ]
  },
  {
   "attachments": {},
   "cell_type": "markdown",
   "metadata": {},
   "source": [
    "2. \n",
    "\n",
    "We shall say that an n-digit number is pandigital if it makes use of all the digits 1 to n exactly once; for example, the 5-digit number, 15234, is 1 through 5 pandigital.\n",
    "\n",
    "The product 7254 is unusual, as the identity, 39 × 186 = 7254, containing multiplicand, multiplier, and product is 1 through 9 pandigital.\n",
    "\n",
    "Find the sum of all products whose multiplicand/multiplier/product identity can be written as a 1 through 9 pandigital.\n",
    "HINT: Some products can be obtained in more than one way so be sure to only include it once in your sum.\n"
   ]
  },
  {
   "cell_type": "code",
   "execution_count": null,
   "metadata": {},
   "outputs": [],
   "source": [
    "class Pandigital:\n",
    "    def __init__(self):\n",
    "        self.products = set()\n",
    "\n",
    "    def is_pandigital(self, n):\n",
    "        digits = set()\n",
    "        while n > 0:\n",
    "            digits.add(n % 10)\n",
    "            n //= 10\n",
    "        return len(digits) == 9 and 0 not in digits\n",
    "\n",
    "    def check(self, a, b):\n",
    "        c = a * b\n",
    "        if self.is_pandigital(a) and self.is_pandigital(b) and self.is_pandigital(c):\n",
    "            self.products.add(c)\n",
    "\n",
    "    def solve(self):\n",
    "        for i in range(1, 10000):\n",
    "            for j in range(i, 10000):\n",
    "                self.check(i, j)\n",
    "        return sum(self.products)\n",
    "\n",
    "print(Pandigital().solve())"
   ]
  },
  {
   "attachments": {},
   "cell_type": "markdown",
   "metadata": {},
   "source": [
    "3. \n",
    "\n",
    "The fraction 49/98 is a curious fraction, as an inexperienced mathematician in attempting to simplify it may incorrectly believe that 49/98 = 4/8, which is correct, is obtained by cancelling the 9s.\n",
    "\n",
    "We shall consider fractions like, 30/50 = 3/5, to be trivial examples.\n",
    "\n",
    "There are exactly four non-trivial examples of this type of fraction, less than one in value, and containing two digits in the numerator and denominator.\n",
    "\n",
    "If the product of these four fractions is given in its lowest common terms, find the value of the denominator.\n"
   ]
  },
  {
   "cell_type": "code",
   "execution_count": null,
   "metadata": {},
   "outputs": [],
   "source": [
    "class Fraction:\n",
    "    def __init__(self, numerator, denominator):\n",
    "        self.numerator = numerator\n",
    "        self.denominator = denominator\n",
    "\n",
    "    def __str__(self):\n",
    "        return f\"{self.numerator}/{self.denominator}\"\n",
    "\n",
    "    def __repr__(self):\n",
    "        return f\"Fraction({self.numerator}, {self.denominator})\"\n",
    "\n",
    "    def __eq__(self, other):\n",
    "        return self.numerator * other.denominator == self.denominator * other.numerator\n",
    "\n",
    "    def __mul__(self, other):\n",
    "        return Fraction(self.numerator * other.numerator, self.denominator * other.denominator)\n",
    "\n",
    "    def __truediv__(self, other):\n",
    "        return Fraction(self.numerator * other.denominator, self.denominator * other.numerator)\n",
    "\n",
    "    def __gt__(self, other):\n",
    "        return self.numerator * other.denominator > self.denominator * other.numerator\n",
    "\n",
    "    def __lt__(self, other):\n",
    "        return self.numerator * other.denominator < self.denominator * other.numerator\n",
    "\n",
    "    def __ge__(self, other):\n",
    "        return self.numerator * other.denominator >= self.denominator * other.numerator\n",
    "\n",
    "    def __le__(self, other):\n",
    "        return self.numerator * other.denominator <= self.denominator * other.numerator\n",
    "\n",
    "    def __ne__(self, other):\n",
    "        return self.numerator * other.denominator != self.denominator * other.numerator\n",
    "\n",
    "    def simplify(self):\n",
    "        for i in range(2, self.numerator + 1):\n",
    "            if self.numerator % i == 0 and self.denominator % i == 0:\n",
    "                self.numerator //= i\n",
    "                self.denominator //= i\n",
    "                self.simplify()\n",
    "                break\n",
    "\n",
    "    def is_curious(self):\n",
    "        if self.numerator % 10 == 0 and self.denominator % 10 == 0:\n",
    "            return False\n",
    "        if self.numerator % 10 == self.denominator // 10:\n",
    "            return Fraction(self.numerator // 10, self.denominator % 10) == self\n",
    "        if self.numerator // 10 == self.denominator % 10:\n",
    "            return Fraction(self.numerator % 10, self.denominator // 10) == self\n",
    "        return False\n",
    "\n",
    "print(Fraction(49, 98).is_curious())"
   ]
  },
  {
   "attachments": {},
   "cell_type": "markdown",
   "metadata": {},
   "source": [
    "4. \n",
    "\n",
    "145 is a curious number, as 1! + 4! + 5! = 1 + 24 + 120 = 145.\n",
    "\n",
    "Find the sum of all numbers which are equal to the sum of the factorial of their digits.\n",
    "\n",
    "Note: As 1! = 1 and 2! = 2 are not sums they are not included.\n"
   ]
  },
  {
   "cell_type": "code",
   "execution_count": null,
   "metadata": {},
   "outputs": [],
   "source": []
  },
  {
   "attachments": {},
   "cell_type": "markdown",
   "metadata": {},
   "source": [
    "5. \n",
    "\n",
    "The number, 197, is called a circular prime because all rotations of the digits: 197, 971, and 719, are themselves prime.\n",
    "\n",
    "There are thirteen such primes below 100: 2, 3, 5, 7, 11, 13, 17, 31, 37, 71, 73, 79, and 97.\n",
    "\n",
    "How many circular primes are there below one million?\n"
   ]
  },
  {
   "cell_type": "code",
   "execution_count": null,
   "metadata": {},
   "outputs": [],
   "source": []
  }
 ],
 "metadata": {
  "language_info": {
   "name": "python"
  },
  "orig_nbformat": 4
 },
 "nbformat": 4,
 "nbformat_minor": 2
}
