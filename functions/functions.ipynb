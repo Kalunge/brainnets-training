{
 "cells": [
  {
   "attachments": {},
   "cell_type": "markdown",
   "metadata": {},
   "source": [
    "1. Write a program that takes a list of numbers and returns the largest number in the list."
   ]
  },
  {
   "cell_type": "code",
   "execution_count": null,
   "metadata": {},
   "outputs": [],
   "source": [
    "numbers = [1, 2, 3, 4, 5, 6, 7, 8, 9]\n",
    "def largest_number(numbers):\n",
    "    largest = numbers[0]\n",
    "    for number in numbers:\n",
    "        if number > largest:\n",
    "            largest = number\n",
    "    return largest"
   ]
  },
  {
   "attachments": {},
   "cell_type": "markdown",
   "metadata": {},
   "source": [
    "2. Write a program that takes a string and returns the number of vowels in the string."
   ]
  },
  {
   "cell_type": "code",
   "execution_count": null,
   "metadata": {},
   "outputs": [],
   "source": [
    "string = \"Hello, world!\"\n",
    "# your code here\n",
    "def count_vowels(string):\n",
    "    count = 0\n",
    "    for letter in string:\n",
    "        if letter in \"aeiou\":\n",
    "            count += 1\n",
    "    return count"
   ]
  },
  {
   "attachments": {},
   "cell_type": "markdown",
   "metadata": {},
   "source": [
    "3. Write a program that takes a list of strings and returns a new list that contains only the strings that start with the letter 'a'."
   ]
  },
  {
   "cell_type": "code",
   "execution_count": 3,
   "metadata": {},
   "outputs": [],
   "source": [
    "strings = [\"apple\", \"banana\", \"cherry\", \"date\"]\n",
    "# your code here\n",
    "def strings_starting_with_letter(strings, letter=\"a\"):\n",
    "    new_list = []\n",
    "    for string in strings:\n",
    "        if string[0] == letter:\n",
    "            new_list.append(string)\n",
    "    return new_list"
   ]
  },
  {
   "attachments": {},
   "cell_type": "markdown",
   "metadata": {},
   "source": [
    "4. Write a program that takes a sentence (string) and returns a dictionary with the count of each word in the sentence."
   ]
  },
  {
   "cell_type": "code",
   "execution_count": null,
   "metadata": {},
   "outputs": [],
   "source": [
    "sentence = \"this is a test sentence\"\n",
    "# your code here\n",
    "def count_of_words_in_dictionary(sentence):\n",
    "    dictionary = {}\n",
    "    for word in sentence.split(\" \"):\n",
    "        if word in dictionary:\n",
    "            dictionary[word] += 1\n",
    "        else:\n",
    "            dictionary[word] = 1\n",
    "    return dictionary"
   ]
  },
  {
   "attachments": {},
   "cell_type": "markdown",
   "metadata": {},
   "source": [
    "5. Write a program that takes two lists of numbers and returns a new list that contains only the numbers that are common to both lists."
   ]
  },
  {
   "cell_type": "code",
   "execution_count": null,
   "metadata": {},
   "outputs": [],
   "source": [
    "list1 = [1, 2, 3, 4, 5, 6, 7, 8, 9]\n",
    "list2 = [2, 4, 6, 8, 10, 12, 14, 16, 18]\n",
    "# your code here\n",
    "def common_elements(list1, list2):\n",
    "    new_list = []\n",
    "    for element in list1:\n",
    "        if element in list2:\n",
    "            new_list.append(element)\n",
    "    return new_list"
   ]
  },
  {
   "attachments": {},
   "cell_type": "markdown",
   "metadata": {},
   "source": [
    "6. Write a program that takes a list of integers and returns a new list that contains only the prime numbers from the original list."
   ]
  },
  {
   "cell_type": "code",
   "execution_count": null,
   "metadata": {},
   "outputs": [],
   "source": [
    "numbers = [1, 2, 3, 4, 5, 6, 7, 8, 9, 10, 11, 12, 13, 14, 15]\n",
    "# your code here\n",
    "def prime_numbers(numbers):\n",
    "    new_list = []\n",
    "    for number in numbers:\n",
    "        if number > 1:\n",
    "            for i in range(2, number):\n",
    "                if (number % i) == 0:\n",
    "                    break\n",
    "            else:\n",
    "                new_list.append(number)\n",
    "    return new_list"
   ]
  },
  {
   "attachments": {},
   "cell_type": "markdown",
   "metadata": {},
   "source": [
    "7. Write a program that takes a string and returns the number of words in the string."
   ]
  },
  {
   "cell_type": "code",
   "execution_count": null,
   "metadata": {},
   "outputs": [],
   "source": [
    "string = \"Write a program that takes a string\"\n",
    "# your code here\n",
    "def num_of_words(string):\n",
    "    return len(string.split(\" \"))"
   ]
  },
  {
   "attachments": {},
   "cell_type": "markdown",
   "metadata": {},
   "source": [
    "8. Write a program that takes a list of strings and returns a new list that contains only the strings that are palindrome."
   ]
  },
  {
   "cell_type": "code",
   "execution_count": null,
   "metadata": {},
   "outputs": [],
   "source": [
    "strings = [\"madam\", \"level\", \"civic\"]\n",
    "# your code here\n",
    "def return_palindromes(strings):\n",
    "    new_list = []\n",
    "    for string in strings:\n",
    "        if string == string[::-1]:\n",
    "            new_list.append(string)\n",
    "    return new_list"
   ]
  },
  {
   "attachments": {},
   "cell_type": "markdown",
   "metadata": {},
   "source": [
    "9. Write a program that takes a sentence (string) and returns a tuple of the most frequent word and its frequency."
   ]
  },
  {
   "cell_type": "code",
   "execution_count": null,
   "metadata": {},
   "outputs": [],
   "source": [
    "sentence = \"this is a test sentence to test the test\"\n",
    "# your code here\n",
    "def tuple_of_most_frequent_word(sentence):\n",
    "    dictionary = {}\n",
    "    for word in sentence.split(\" \"):\n",
    "        if word in dictionary:\n",
    "            dictionary[word] += 1\n",
    "        else:\n",
    "            dictionary[word] = 1\n",
    "    return max(dictionary, key=dictionary.get), max(dictionary.values())"
   ]
  }
 ],
 "metadata": {
  "kernelspec": {
   "display_name": "Python 3",
   "language": "python",
   "name": "python3"
  },
  "language_info": {
   "codemirror_mode": {
    "name": "ipython",
    "version": 3
   },
   "file_extension": ".py",
   "mimetype": "text/x-python",
   "name": "python",
   "nbconvert_exporter": "python",
   "pygments_lexer": "ipython3",
   "version": "3.10.9 (tags/v3.10.9:1dd9be6, Dec  6 2022, 20:01:21) [MSC v.1934 64 bit (AMD64)]"
  },
  "orig_nbformat": 4,
  "vscode": {
   "interpreter": {
    "hash": "f7a5be651532581cb44625d52e18aa1d390cab54bc6b51099d8c30bea9b68219"
   }
  }
 },
 "nbformat": 4,
 "nbformat_minor": 2
}
