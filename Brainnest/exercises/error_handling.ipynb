{
 "cells": [
  {
   "attachments": {},
   "cell_type": "markdown",
   "metadata": {},
   "source": [
    "1. Write a function that takes a list of integers as an argument, and returns the sum of the integers. Use a try-except block to catch any ValueError exceptions that may be raised when attempting to convert a string to an integer."
   ]
  },
  {
   "cell_type": "code",
   "execution_count": null,
   "metadata": {},
   "outputs": [],
   "source": [
    "\n",
    "def sum_integers(list):\n",
    "  sum = 0 \n",
    "# iterate over all integers in list and add each to max\n",
    "# return an error in case of strings instead of integers in the list\n",
    "  try:\n",
    "    for num in list:\n",
    "      sum += int(num)\n",
    "    return sum\n",
    "  except ValueError:\n",
    "    return \"An error occured while coverting string to integer\"\n",
    "\n",
    "\n",
    "  \n",
    "\n",
    "\n",
    "print(sum_integers([1,3,4,5,]))\n",
    "print(sum_integers(['q','b']))"
   ]
  },
  {
   "attachments": {},
   "cell_type": "markdown",
   "metadata": {},
   "source": [
    "2. Write a function that takes a filename as an argument, and attempts to open the file. Use a try-except block to catch any FileNotFoundError exceptions that may be raised when attempting to open the file. If the file is successfully opened, the function should return the contents of the file."
   ]
  },
  {
   "cell_type": "code",
   "execution_count": null,
   "metadata": {},
   "outputs": [],
   "source": [
    "def read_file(file_name):\n",
    "\n",
    "  # try reading and handle error of a not found file\n",
    "  try:\n",
    "    file_details = open(file_name)\n",
    "    print(file.read(file_details))\n",
    "  except FileNotFoundError:\n",
    "    print(\"File not found\")\n",
    "\n",
    "read_file('hello.txt')"
   ]
  },
  {
   "attachments": {},
   "cell_type": "markdown",
   "metadata": {},
   "source": [
    "3. Write a function that takes a list of strings as an argument, and returns a new list containing only the strings that can be successfully converted to a float. Use a try-except block to catch any ValueError exceptions that may be raised when attempting to convert a string to a float."
   ]
  },
  {
   "cell_type": "code",
   "execution_count": null,
   "metadata": {},
   "outputs": [],
   "source": [
    "def convert_to_float(list):\n",
    "  # create a list to hold strings that can be converted to floats\n",
    "    convertable_strs = []\n",
    "\n",
    "    # iterate over the array of strings and try to convert them into a float\n",
    "    # if convertable they will be added to the arry else deal with value error exception accordingly\n",
    "    for str in list:\n",
    "        try:\n",
    "            float(str)\n",
    "            convertable_strs.append(str)\n",
    "\n",
    "        except:\n",
    "            return f\"{str} cannot be converted to a float\"\n",
    "\n",
    "    return convertable_strs\n",
    "\n",
    "\n",
    "print(convert_to_float([\"1\", \"2\", \"3\"]))\n",
    "print(convert_to_float([\"1\", \"2\", \"3\", \"c\"]))"
   ]
  },
  {
   "attachments": {},
   "cell_type": "markdown",
   "metadata": {},
   "source": [
    "4. Write a function that takes a list of dictionaries as an argument, and returns the value of a specified key from each dictionary. Use a try-except block to catch any KeyError exceptions that may be raised when attempting to access a key that does not exist in a dictionary."
   ]
  },
  {
   "cell_type": "code",
   "execution_count": null,
   "metadata": {},
   "outputs": [],
   "source": [
    "def access_values(dict_list, key):\n",
    "  # iterate over the list of dictionaries\n",
    "    for dict in dict_list:\n",
    "      # try accessing the given key from the dictionary and print it\n",
    "        try:\n",
    "            print(dict[key])\n",
    "      # handle keyError when key is not found\n",
    "        except KeyError:\n",
    "            print(f\"the key {key} doest not exist in {dict}\")\n",
    "\n",
    "\n",
    "persons = [{\"name\": \"Titus\"}, {\"names\": \"Muthomi\"}, {\"name\": \"Eric\"}]\n",
    "# persons\n",
    "\n",
    "access_values(persons, \"names\")"
   ]
  },
  {
   "attachments": {},
   "cell_type": "markdown",
   "metadata": {},
   "source": [
    "5. Write a function that takes a list of integers as an argument, and returns the largest integer in the list. Use a try-except block to catch any ValueError exceptions that may be raised when attempting to compare elements that are not integers."
   ]
  },
  {
   "cell_type": "code",
   "execution_count": null,
   "metadata": {},
   "outputs": [],
   "source": []
  }
 ],
 "metadata": {
  "kernelspec": {
   "display_name": "Python 3",
   "language": "python",
   "name": "python3"
  },
  "language_info": {
   "name": "python",
   "version": "3.9.2"
  },
  "orig_nbformat": 4,
  "vscode": {
   "interpreter": {
    "hash": "a38fb3a72033b2d9e07407bf2fda4e4fc27eeb4ede67d29a8aa2d6278442cc6e"
   }
  }
 },
 "nbformat": 4,
 "nbformat_minor": 2
}
