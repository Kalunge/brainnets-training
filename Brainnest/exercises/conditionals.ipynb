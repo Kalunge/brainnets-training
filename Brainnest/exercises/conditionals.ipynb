{
 "cells": [
  {
   "attachments": {},
   "cell_type": "markdown",
   "metadata": {},
   "source": [
    "1. Write a program that prompts the user for a string and checks whether the string is a palindrome (i.e., the string reads the same forward and backward)."
   ]
  },
  {
   "cell_type": "code",
   "execution_count": null,
   "metadata": {},
   "outputs": [],
   "source": [
    "def is_palindrome():\n",
    "  # Get input from user\n",
    "  str = input(\"Enter a string to check if it is a plaindrome: \")\n",
    "  # claen the string to remove any spaces using replae and then convert to lower case\n",
    "  cleaned_str = str.replace(\" \", \"\").lower()\n",
    "  # reverse the string then remove all\n",
    "  reversed_str =  cleaned_str[::-1]\n",
    "\n",
    "  # compare both strings and print result\n",
    "\n",
    "  print(cleaned_str == reversed_str)\n",
    "\n",
    "\n",
    "  # combined operations \n",
    "  #  return str.replace(\" \", \"\").lower() == str[::-1].replace(\" \", \"\").lower()\n",
    "\n",
    "\n",
    "\n",
    "\n",
    "is_palindrome()\n"
   ]
  },
  {
   "attachments": {},
   "cell_type": "markdown",
   "metadata": {},
   "source": [
    "2. Write a program that takes in a list of integers and returns the sum of all even numbers in the list."
   ]
  },
  {
   "cell_type": "code",
   "execution_count": null,
   "metadata": {},
   "outputs": [],
   "source": [
    "# 2. Write a program that takes in a list of integers and returns the sum of all even numbers in the list.\n",
    "\n",
    "def add_even(list):\n",
    "  # create an empty list to append all even numbers\n",
    "  even_numbers = []\n",
    "\n",
    "  # loop through the given array and extract even numbers by checking if they are divisible by two using modullo\n",
    "  for num in list:\n",
    "    if num % 2 == 0:\n",
    "      even_numbers.append(num)\n",
    "\n",
    "# sum all even numbers in the array and return result\n",
    "  return sum(even_numbers)\n",
    "\n",
    "\n",
    "\n",
    "print(add_even([1,2,3,4,5,6, 10])\n",
    ")"
   ]
  },
  {
   "attachments": {},
   "cell_type": "markdown",
   "metadata": {},
   "source": [
    "3. Write a program that prompts the user for their age and checks whether they are old enough to vote (i.e., 18 years old or older)."
   ]
  },
  {
   "cell_type": "code",
   "execution_count": null,
   "metadata": {},
   "outputs": [],
   "source": [
    "# 3. Write a program that prompts the user for their age and checks whether they are old enough to vote (i.e., 18 years old or older).\n",
    "\n",
    "def eligible_to_vote():\n",
    "  # prompt user to enter their age and convert it into a float\n",
    "  age = float(input(\"Enter your current age: \"))\n",
    "\n",
    "  # check if users age is greater than or equal to 18, if meets condition then respond accordingly\n",
    "  if age >= 18:\n",
    "    print(\"You are eligible to vote\")\n",
    "  else:\n",
    "    print(\"Sorry! You are not eligible to vote\")\n",
    "\n",
    "\n",
    "eligible_to_vote()"
   ]
  },
  {
   "attachments": {},
   "cell_type": "markdown",
   "metadata": {},
   "source": [
    "4. Write a program that takes in a list of integers and returns the largest number in the list that is also divisible by 3."
   ]
  },
  {
   "cell_type": "code",
   "execution_count": null,
   "metadata": {},
   "outputs": [],
   "source": [
    "# 4. Write a program that takes in a list of integers and returns the largest number in the list that is also divisible by 3.\n",
    "def larges_divesible_by_3(arr):\n",
    "  max = 0\n",
    "\n",
    "  # loop through the given list and find a number greater than maximum and is divisble by\n",
    "  #  three then overite max with the number\n",
    "  for num in arr:\n",
    "    if num % 3 == 0 and num % 3 == 0:\n",
    "     max = num\n",
    "\n",
    "  return max\n",
    "\n",
    "\n",
    "print(larges_divesible_by_3([1,4,7,9,4,77]))\n",
    "print(larges_divesible_by_3([1,4,7,9,4,77, 99, 100]))\n",
    "print(larges_divesible_by_3([1,4,7,9,4,77, 99, 100, 120, 121]))\n",
    "print(larges_divesible_by_3([1,4,7,9,4,77, 99, 100, 120, 121, 123]))"
   ]
  },
  {
   "cell_type": "code",
   "execution_count": null,
   "metadata": {},
   "outputs": [],
   "source": []
  },
  {
   "attachments": {},
   "cell_type": "markdown",
   "metadata": {},
   "source": [
    "5. Write a program that prompts the user for a number and checks whether the number is a prime number (i.e., only divisible by 1 and itself)."
   ]
  },
  {
   "cell_type": "code",
   "execution_count": null,
   "metadata": {},
   "outputs": [],
   "source": [
    "# 5. Write a program that prompts the user for a number and checks whether the number is a prime number\n",
    "# (i.e., only divisible by 1 and itself).\n",
    "\n",
    "\n",
    "def is_prime(number):\n",
    "    factors = []\n",
    "\n",
    "  # iterate over all numbers from 1 to given number and check if they are divisible, add them to factors list if they are divisible\n",
    "    for num in range(1, number):\n",
    "        if number % num == 0:\n",
    "            factors.append(num)\n",
    "\n",
    "  # a prime number should have only two factors therefore return false if otherwise\n",
    "    if len(factors) > 2:\n",
    "      print(\"False\")\n",
    "    else:\n",
    "      print(\"True\")\n",
    "\n",
    "\n",
    "is_prime(3)\n",
    "is_prime(2)\n",
    "is_prime(98)\n",
    "is_prime(29)\n",
    "is_prime(37)\n"
   ]
  },
  {
   "cell_type": "code",
   "execution_count": null,
   "metadata": {},
   "outputs": [],
   "source": []
  }
 ],
 "metadata": {
  "kernelspec": {
   "display_name": "Python 3",
   "language": "python",
   "name": "python3"
  },
  "language_info": {
   "name": "python",
   "version": "3.9.2"
  },
  "orig_nbformat": 4,
  "vscode": {
   "interpreter": {
    "hash": "a38fb3a72033b2d9e07407bf2fda4e4fc27eeb4ede67d29a8aa2d6278442cc6e"
   }
  }
 },
 "nbformat": 4,
 "nbformat_minor": 2
}
